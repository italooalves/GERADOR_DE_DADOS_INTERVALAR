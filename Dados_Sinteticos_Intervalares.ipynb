{
  "nbformat": 4,
  "nbformat_minor": 0,
  "metadata": {
    "colab": {
      "provenance": [],
      "collapsed_sections": [],
      "toc_visible": true
    },
    "kernelspec": {
      "name": "python3",
      "display_name": "Python 3"
    },
    "language_info": {
      "name": "python"
    }
  },
  "cells": [
    {
      "cell_type": "markdown",
      "source": [
        "# Bibliotecas"
      ],
      "metadata": {
        "id": "iFj8TtOT_BvY"
      }
    },
    {
      "cell_type": "code",
      "execution_count": 1,
      "metadata": {
        "id": "6_C-zhe--7b_"
      },
      "outputs": [],
      "source": [
        "import numpy as np\n",
        "\n",
        "from scipy.stats import multivariate_normal"
      ]
    },
    {
      "cell_type": "markdown",
      "source": [
        "# Funções"
      ],
      "metadata": {
        "id": "q7YX9PxG_hce"
      }
    },
    {
      "cell_type": "markdown",
      "source": [
        "Essas funções possuem o objetivo de criar dados sinteticos intervalares em três grupos. Sua saida será 8 conjunto de dados, cada um com sua confiuguração referentes ao artigo  Agrupamento e regressão linear de dados simbólicos intervalares baseados em novas representações\n",
        "por: SOUZA, Leandro Carlos de\n",
        "Instituição de Defesa: (2016)."
      ],
      "metadata": {
        "id": "8Ssegu8qAeNb"
      }
    },
    {
      "cell_type": "markdown",
      "source": [
        "## Função geradora de sementes Bivariada."
      ],
      "metadata": {
        "id": "BrPOaCKO_jIG"
      }
    },
    {
      "cell_type": "code",
      "source": [
        "## Funções geradora de sementes.\n",
        "\n",
        "def gerador_semente1():\n",
        "  random_seed = 2\n",
        "  \n",
        "  # Grupo 1\n",
        "  cov_val1 = [[100, 0], [0,25]] # Matriz de variacia grupo 1 semente 2\n",
        "  media1 = [25,10] # Matriz de medias grupo 1 semente 2\n",
        "  distr1 = multivariate_normal(cov = cov_val1, mean = media1, seed = random_seed) \n",
        "  data1 = distr1.rvs(size = 150) # Gerando dados bivariado gaussianos de tamanho 150.\n",
        "\n",
        "  # Grupo 2\n",
        "  cov_val2 = [[36, 0], [0,144]] # Matriz de variacia grupo 2 semente 2\n",
        "  media2 = [60, 30] # Matriz de medias grupo 2 semente 2\n",
        "  distr2 = multivariate_normal(cov = cov_val2, mean = media2, seed = random_seed)\n",
        "  data2 = distr2.rvs(size = 150) # Gerando dados bivariado gaussianos de tamanho 150.\n",
        "\n",
        "  # Grupo 3\n",
        "  cov_val3 = [[16, 0], [0,16]] # Matriz de variacia grupo 3 semente 2\n",
        "  media3 = [20,40] # Matriz de medias grupo 3 semente 2\n",
        "  distr3 = multivariate_normal(cov = cov_val3, mean = media3, seed = random_seed)\n",
        "  data3 = distr3.rvs(size = 50) # Gerando dados bivariado gaussianos de tamanho 50.\n",
        "\n",
        "  Semente1 = np.concatenate((data1, data2 ,data3), axis=0)\n",
        "\n",
        "  return Semente1\n",
        "\n",
        "\n",
        "def gerador_semente2():\n",
        "  random_seed = 2\n",
        "  \n",
        "  # Grupo 1\n",
        "  cov_val4 = [[100, 0], [0,25]] # Matriz de variacia grupo 1 semente 2\n",
        "  media4 = [30,10] # Matriz de medias grupo 1 semente 2\n",
        "  distr4 = multivariate_normal(cov = cov_val4, mean = media4, seed = random_seed) \n",
        "  data4 = distr4.rvs(size = 150) # Gerando dados bivariado gaussianos de tamanho 150.\n",
        "\n",
        "  # Grupo 2\n",
        "  cov_val5 = [[36, 0], [0,144]] # Matriz de variacia grupo 2 semente 2\n",
        "  media5 = [50, 30] # Matriz de medias grupo 2 semente 2\n",
        "  distr5 = multivariate_normal(cov = cov_val5, mean = media5, seed = random_seed)\n",
        "  data5 = distr5.rvs(size = 150) # Gerando dados bivariado gaussianos de tamanho 150.\n",
        "\n",
        "  # Grupo 3\n",
        "  cov_val6 = [[16, 0], [0,16]] # Matriz de variacia grupo 3 semente 2\n",
        "  media6 = [30,35] # Matriz de medias grupo 3 semente 2\n",
        "  distr6 = multivariate_normal(cov = cov_val6, mean = media6, seed = random_seed)\n",
        "  data6 = distr6.rvs(size = 50) # Gerando dados bivariado gaussianos de tamanho 50.\n",
        "\n",
        "  Semente2 = np.concatenate((data4, data5,data6), axis=0)\n",
        "\n",
        "  return Semente2"
      ],
      "metadata": {
        "id": "YK8CSiir_TyG"
      },
      "execution_count": 4,
      "outputs": []
    },
    {
      "cell_type": "markdown",
      "source": [
        "## Função geradora de configuração"
      ],
      "metadata": {
        "id": "CwaTFhKbD3Gz"
      }
    },
    {
      "cell_type": "code",
      "source": [
        "def conjunto_config1(Semente1, classes0):\n",
        "  data_sync_1_1 = np.zeros([350,4]) # Criando o conjunto 350x4 zerado.\n",
        "\n",
        "  # Configuração 1\n",
        "  for i in range(350):\n",
        "    for j in range(0,4,2):\n",
        "      if classes0[i] == 0:\n",
        "        x = int(j/2)\n",
        "        intervalo = np.random.randint(low = 1, high = 10, size = 1)\n",
        "        data_sync_1_1[i][j] = Semente1[i][x] - (intervalo/2)\n",
        "        data_sync_1_1[i][j+1] = Semente1[i][x] + (intervalo/2)\n",
        "      elif classes0[i] == 1:\n",
        "        x = int(j/2)\n",
        "        intervalo = np.random.randint(low = 1, high = 10, size = 1)\n",
        "        data_sync_1_1[i][j] = Semente1[i][x] - (intervalo/2)\n",
        "        data_sync_1_1[i][j+1] = Semente1[i][x] + (intervalo/2)\n",
        "      elif classes0[i] == 2:\n",
        "        x = int(j/2)\n",
        "        intervalo = np.random.randint(low = 1, high = 10, size = 1)\n",
        "        data_sync_1_1[i][j] = Semente1[i][x] - (intervalo/2)  \n",
        "        data_sync_1_1[i][j+1] = Semente1[i][x] + (intervalo/2)\n",
        "    \n",
        "  return data_sync_1_1\n",
        "\n",
        "def conjunto_config2(Semente1, classes0):\n",
        "  data_sync_1_2 = np.zeros([350,4])\n",
        "\n",
        "  # Configuração 2\n",
        "  for i in range(350):\n",
        "    for j in range(0,4,2):\n",
        "      if classes0[i] == 0:\n",
        "        if j == 0:\n",
        "          x = int(j/2)\n",
        "          intervalo = np.random.randint(low = 3, high = 7, size = 1)\n",
        "          data_sync_1_2[i][j] = Semente1[i][x] - (intervalo/2)\n",
        "          data_sync_1_2[i][j+1] = Semente1[i][x] + (intervalo/2)\n",
        "        else:\n",
        "          x = int(j/2)\n",
        "          intervalo = np.random.randint(low = 5, high = 8, size = 1)\n",
        "          data_sync_1_2[i][j] = Semente1[i][x] - (intervalo/2)\n",
        "          data_sync_1_2[i][j+1] = Semente1[i][x] + (intervalo/2)\n",
        "\n",
        "      elif classes0[i] == 1:\n",
        "        if j == 0:\n",
        "          x = int(j/2)\n",
        "          intervalo = np.random.randint(low = 3, high = 7, size = 1)\n",
        "          data_sync_1_2[i][j] = Semente1[i][x] - (intervalo/2)\n",
        "          data_sync_1_2[i][j+1] = Semente1[i][x] + (intervalo/2)\n",
        "        else:\n",
        "          x = int(j/2)\n",
        "          intervalo = np.random.randint(low = 5, high = 8, size = 1)\n",
        "          data_sync_1_2[i][j] = Semente1[i][x] - (intervalo/2)\n",
        "          data_sync_1_2[i][j+1] = Semente1[i][x] + (intervalo/2)\n",
        "      elif classes0[i] == 2:\n",
        "        if j == 0:\n",
        "          x = int(j/2)\n",
        "          intervalo = np.random.randint(low = 3, high = 7, size = 1)\n",
        "          data_sync_1_2[i][j] = Semente1[i][x] - (intervalo/2)\n",
        "          data_sync_1_2[i][j+1] = Semente1[i][x] + (intervalo/2)\n",
        "        else:\n",
        "          x = int(j/2)\n",
        "          intervalo = np.random.randint(low = 5, high = 8, size = 1)\n",
        "          data_sync_1_2[i][j] = Semente1[i][x] - (intervalo/2)\n",
        "          data_sync_1_2[i][j+1] = Semente1[i][x] + (intervalo/2)\n",
        "  return data_sync_1_2\n",
        "\n",
        "def conjunto_config3(Semente1, classes0):\n",
        "  data_sync_1_3 = np.zeros([350,4])\n",
        "\n",
        "  # Configuração 3\n",
        "  for i in range(350):\n",
        "    for j in range(0,4,2):\n",
        "      if classes0[i] == 0:\n",
        "        if j == 0:\n",
        "          x = int(j/2)\n",
        "          intervalo = np.random.randint(low = 1, high = 4, size = 1)\n",
        "          data_sync_1_3[i][j] = Semente1[i][x] - (intervalo/2)\n",
        "          data_sync_1_3[i][j+1] = Semente1[i][x] + (intervalo/2)\n",
        "        else:\n",
        "          x = int(j/2)\n",
        "          intervalo = np.random.randint(low = 1, high = 4, size = 1)\n",
        "          data_sync_1_3[i][j] = Semente1[i][x] - (intervalo/2)\n",
        "          data_sync_1_3[i][j+1] = Semente1[i][x] + (intervalo/2)\n",
        "\n",
        "      elif classes0[i] == 1:\n",
        "        if j == 0:\n",
        "          x = int(j/2)\n",
        "          intervalo = np.random.randint(low = 3, high = 7, size = 1)\n",
        "          data_sync_1_3[i][j] = Semente1[i][x] - (intervalo/2)\n",
        "          data_sync_1_3[i][j+1] = Semente1[i][x] + (intervalo/2)\n",
        "        else:\n",
        "          x = int(j/2)\n",
        "          intervalo = np.random.randint(low = 3, high = 7, size = 1)\n",
        "          data_sync_1_3[i][j] = Semente1[i][x] - (intervalo/2)\n",
        "          data_sync_1_3[i][j+1] = Semente1[i][x] + (intervalo/2)\n",
        "      elif classes0[i] == 2:\n",
        "        if j == 0:\n",
        "          x = int(j/2)\n",
        "          intervalo = np.random.randint(low = 5, high = 10, size = 1)\n",
        "          data_sync_1_3[i][j] = Semente1[i][x] - (intervalo/2)\n",
        "          data_sync_1_3[i][j+1] = Semente1[i][x] + (intervalo/2)\n",
        "        else:\n",
        "          x = int(j/2)\n",
        "          intervalo = np.random.randint(low = 5, high = 10, size = 1)\n",
        "          data_sync_1_3[i][j] = Semente1[i][x] - (intervalo/2)\n",
        "          data_sync_1_3[i][j+1] = Semente1[i][x] + (intervalo/2)\n",
        "      \n",
        "  return data_sync_1_3\n",
        "\n",
        "def conjunto_config4(Semente1, classes0):\n",
        "  data_sync_1_4 = np.zeros([350,4])\n",
        "\n",
        "  # Configuração 4\n",
        "  for i in range(350):\n",
        "    for j in range(0,4,2):\n",
        "      if classes0[i] == 0:\n",
        "        if j == 0:\n",
        "          x = int(j/2)\n",
        "          intervalo = np.random.randint(low = 4, high = 7, size = 1)\n",
        "          data_sync_1_4[i][j] = Semente1[i][x] - (intervalo/2)\n",
        "          data_sync_1_4[i][j+1] = Semente1[i][x] + (intervalo/2)\n",
        "        else:\n",
        "          x = int(j/2)\n",
        "          intervalo = np.random.randint(low = 1, high = 3, size = 1)\n",
        "          data_sync_1_4[i][j] = Semente1[i][x] - (intervalo/2)\n",
        "          data_sync_1_4[i][j+1] = Semente1[i][x] + (intervalo/2)\n",
        "\n",
        "      elif classes0[i] == 1:\n",
        "        if j == 0:\n",
        "          x = int(j/2)\n",
        "          intervalo = np.random.randint(low = 1, high = 2, size = 1)\n",
        "          data_sync_1_4[i][j] = Semente1[i][x] - (intervalo/2)\n",
        "          data_sync_1_4[i][j+1] = Semente1[i][x] + (intervalo/2)\n",
        "        else:\n",
        "          x = int(j/2)\n",
        "          intervalo = np.random.randint(low = 6, high = 9, size = 1)\n",
        "          data_sync_1_4[i][j] = Semente1[i][x] - (intervalo/2)\n",
        "          data_sync_1_4[i][j+1] = Semente1[i][x] + (intervalo/2)\n",
        "      elif classes0[i] == 2:\n",
        "        if j == 0:\n",
        "          x = int(j/2)\n",
        "          intervalo = np.random.randint(low = 2, high = 3, size = 1)\n",
        "          data_sync_1_4[i][j] = Semente1[i][x] - (intervalo/2)\n",
        "          data_sync_1_4[i][j+1] = Semente1[i][x] + (intervalo/2)\n",
        "        else:\n",
        "          x = int(j/2)\n",
        "          intervalo = np.random.randint(low = 3, high = 6, size = 1)\n",
        "          data_sync_1_4[i][j] = Semente1[i][x] - (intervalo/2)\n",
        "          data_sync_1_4[i][j+1] = Semente1[i][x] + (intervalo/2)\n",
        "  return data_sync_1_4"
      ],
      "metadata": {
        "id": "Up8kWYvED-mB"
      },
      "execution_count": 10,
      "outputs": []
    },
    {
      "cell_type": "markdown",
      "source": [
        "## Função geradora dos dados sinteticos intervalar"
      ],
      "metadata": {
        "id": "mIfZyzSjG34c"
      }
    },
    {
      "cell_type": "code",
      "source": [
        "def conjunto_dados_sinteticos():\n",
        "  # Definindo as classes.\n",
        "  classes0 = np.zeros(350)\n",
        "  for i in range(350):\n",
        "    if i < 150:\n",
        "      classes0[i] = 0\n",
        "    elif i < 300 and i > 149:\n",
        "      classes0[i] = 1\n",
        "    elif i < 350 and i > 299:\n",
        "      classes0[i] = 2\n",
        "  \n",
        "  # Gerando as sementes\n",
        "  semente1 = gerador_semente1()\n",
        "  semente2 = gerador_semente2()\n",
        "\n",
        "  # Gerador de dados config 1 a 4 - Semente 1\n",
        "  conjunto1 = conjunto_config1(semente1, classes0)\n",
        "  conjunto2 = conjunto_config1(semente1, classes0)\n",
        "  conjunto3 = conjunto_config1(semente1, classes0)\n",
        "  conjunto4 = conjunto_config1(semente1, classes0)\n",
        "\n",
        "  # Gerador de dados config 5 a 8 - Semente 2\n",
        "  conjunto5 = conjunto_config1(semente2, classes0)\n",
        "  conjunto6 = conjunto_config1(semente2, classes0)\n",
        "  conjunto7 = conjunto_config1(semente2, classes0)\n",
        "  conjunto8 = conjunto_config1(semente2, classes0)\n",
        "\n",
        "  return conjunto1, conjunto2, conjunto3, conjunto4, conjunto5, conjunto6, conjunto7, conjunto8"
      ],
      "metadata": {
        "id": "xexrhcOv_grJ"
      },
      "execution_count": 6,
      "outputs": []
    },
    {
      "cell_type": "markdown",
      "source": [
        "# Teste"
      ],
      "metadata": {
        "id": "2w2aeav6IKQz"
      }
    },
    {
      "cell_type": "code",
      "source": [
        "conjunto1, conjunto2, conjunto3, conjunto4, conjunto5, conjunto6, conjunto7, conjunto8 = conjunto_dados_sinteticos()"
      ],
      "metadata": {
        "id": "DACan5ZlIJhH"
      },
      "execution_count": 11,
      "outputs": []
    },
    {
      "cell_type": "code",
      "source": [
        "# Visualizando o conjunto de dados na primeira configuração.\n",
        "\n",
        "print(conjunto1)"
      ],
      "metadata": {
        "colab": {
          "base_uri": "https://localhost:8080/"
        },
        "id": "oECh4CfRIRYS",
        "outputId": "c5e8ffc0-40d6-467b-ee15-41477a7d7d05"
      },
      "execution_count": 13,
      "outputs": [
        {
          "output_type": "stream",
          "name": "stdout",
          "text": [
            "[[19.83242153 21.83242153  5.71866586 13.71866586]\n",
            " [ 0.13803904  7.13803904 15.70135404 20.70135404]\n",
            " [ 6.56564415  7.56564415  3.79126317  7.79126317]\n",
            " ...\n",
            " [10.04816198 16.04816198 41.66329581 46.66329581]\n",
            " [20.52188788 22.52188788 38.63145893 39.63145893]\n",
            " [22.19412599 27.19412599 26.12558724 35.12558724]]\n"
          ]
        }
      ]
    },
    {
      "cell_type": "code",
      "source": [],
      "metadata": {
        "id": "arYEZi0IIhIU"
      },
      "execution_count": null,
      "outputs": []
    }
  ]
}